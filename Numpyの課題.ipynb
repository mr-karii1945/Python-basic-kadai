{
  "nbformat": 4,
  "nbformat_minor": 0,
  "metadata": {
    "colab": {
      "provenance": []
    },
    "kernelspec": {
      "name": "python3",
      "display_name": "Python 3"
    },
    "language_info": {
      "name": "python"
    }
  },
  "cells": [
    {
      "cell_type": "code",
      "execution_count": null,
      "metadata": {
        "id": "lpL8YePPCB4C",
        "colab": {
          "base_uri": "https://localhost:8080/"
        },
        "outputId": "090caa6f-0a29-47fd-bce7-11a800c83a34"
      },
      "outputs": [
        {
          "output_type": "execute_result",
          "data": {
            "text/plain": [
              "(array([[0, 1, 2],\n",
              "        [3, 4, 5]]),\n",
              " array([[0, 1, 2, 3],\n",
              "        [4, 5, 6, 7]]))"
            ]
          },
          "metadata": {},
          "execution_count": 3
        }
      ],
      "source": [
        "import numpy as np\n",
        "\n",
        "a = np.arange(6).reshape(2, 3)\n",
        "b = np.arange(8).reshape(2, 4)\n",
        "\n",
        "a, b"
      ]
    },
    {
      "cell_type": "code",
      "source": [
        "a = a * 5\n",
        "b = b * 5\n",
        "\n",
        "a, b"
      ],
      "metadata": {
        "colab": {
          "base_uri": "https://localhost:8080/"
        },
        "id": "cG0bwlpHtG0W",
        "outputId": "c63c185c-b660-4b68-85e6-f067a1048fee"
      },
      "execution_count": null,
      "outputs": [
        {
          "output_type": "execute_result",
          "data": {
            "text/plain": [
              "(array([[  0,  25,  50],\n",
              "        [ 75, 100, 125]]),\n",
              " array([[  0,  25,  50,  75],\n",
              "        [100, 125, 150, 175]]))"
            ]
          },
          "metadata": {},
          "execution_count": 24
        }
      ]
    },
    {
      "cell_type": "code",
      "source": [
        "a.max()\n"
      ],
      "metadata": {
        "colab": {
          "base_uri": "https://localhost:8080/"
        },
        "id": "R3YjDOC6uEeG",
        "outputId": "112667dc-1b3a-409e-a22b-bfe52fa9e4de"
      },
      "execution_count": null,
      "outputs": [
        {
          "output_type": "execute_result",
          "data": {
            "text/plain": [
              "125"
            ]
          },
          "metadata": {},
          "execution_count": 32
        }
      ]
    },
    {
      "cell_type": "code",
      "source": [
        "b.max()"
      ],
      "metadata": {
        "colab": {
          "base_uri": "https://localhost:8080/"
        },
        "id": "Sw09XGR_xfCa",
        "outputId": "bc70e9c3-cb16-466c-a3b2-77e7e2fd1259"
      },
      "execution_count": null,
      "outputs": [
        {
          "output_type": "execute_result",
          "data": {
            "text/plain": [
              "175"
            ]
          },
          "metadata": {},
          "execution_count": 34
        }
      ]
    }
  ]
}