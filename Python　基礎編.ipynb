{
  "nbformat": 4,
  "nbformat_minor": 0,
  "metadata": {
    "colab": {
      "provenance": [],
      "authorship_tag": "ABX9TyMPEN9TQGrDNs1NcaQCbJUx",
      "include_colab_link": true
    },
    "kernelspec": {
      "name": "python3",
      "display_name": "Python 3"
    },
    "language_info": {
      "name": "python"
    }
  },
  "cells": [
    {
      "cell_type": "markdown",
      "metadata": {
        "id": "view-in-github",
        "colab_type": "text"
      },
      "source": [
        "<a href=\"https://colab.research.google.com/github/mr-karii1945/Python-basic-kadai/blob/main/Python%E3%80%80%E5%9F%BA%E7%A4%8E%E7%B7%A8.ipynb\" target=\"_parent\"><img src=\"https://colab.research.google.com/assets/colab-badge.svg\" alt=\"Open In Colab\"/></a>"
      ]
    },
    {
      "cell_type": "code",
      "execution_count": null,
      "metadata": {
        "id": "0c_WrRUissOA",
        "colab": {
          "base_uri": "https://localhost:8080/"
        },
        "outputId": "6fffe8b9-c9b4-40f4-989e-271141495923"
      },
      "outputs": [
        {
          "output_type": "stream",
          "name": "stdout",
          "text": [
            "3\n"
          ]
        }
      ],
      "source": [
        "print(1+2)"
      ]
    },
    {
      "cell_type": "code",
      "source": [
        "age = 18 # 年齢\n",
        "\n",
        "if age < 20:\n",
        "  '''\n",
        "  # 未成年の場合\n",
        "  print(\"ジュースで乾杯！\")\n",
        "else:\n",
        "  '''\n",
        "  # 成年の場合\n",
        "  print(\"お酒で乾杯！\")\n",
        "  # インデントは半角２文字分あける\n"
      ],
      "metadata": {
        "id": "K5IE8PIRt0kj",
        "colab": {
          "base_uri": "https://localhost:8080/"
        },
        "outputId": "978453c9-c0f6-46d0-e2c8-374198cc9c20"
      },
      "execution_count": null,
      "outputs": [
        {
          "output_type": "stream",
          "name": "stdout",
          "text": [
            "お酒で乾杯！\n"
          ]
        }
      ]
    },
    {
      "cell_type": "code",
      "source": [
        "print(\"こんにちわ\")\n",
        "print(\"今日はいい天気ですね\")\n",
        "# これが文字列型　シングルもしくはダブルクォーテーションで囲む"
      ],
      "metadata": {
        "colab": {
          "base_uri": "https://localhost:8080/"
        },
        "id": "T6HYd-wF0Kgt",
        "outputId": "f1b615d8-d821-4b56-ec0f-a8b4adb1d8a5"
      },
      "execution_count": null,
      "outputs": [
        {
          "output_type": "stream",
          "name": "stdout",
          "text": [
            "こんにちわ\n",
            "今日はいい天気ですね\n"
          ]
        }
      ]
    },
    {
      "cell_type": "code",
      "source": [
        "print(-123)\n",
        "# これが整数型　数字は半角で入力\n",
        "print(\"１００\")\n",
        "# 全角で実行する場合は全角数字をダブルクォーテーションで囲む"
      ],
      "metadata": {
        "colab": {
          "base_uri": "https://localhost:8080/"
        },
        "id": "ZCbdzJGq1CKl",
        "outputId": "78df605d-a48b-4dd6-c244-7ccf0409f426"
      },
      "execution_count": null,
      "outputs": [
        {
          "output_type": "stream",
          "name": "stdout",
          "text": [
            "-123\n",
            "１００\n"
          ]
        }
      ]
    },
    {
      "cell_type": "code",
      "source": [
        "print(45 + 18)\n",
        "print(30 - 12)\n",
        "print(15 * 6)\n",
        "print(30 / 3)\n",
        "print(45 % 8)\n",
        "\n",
        "# Pythonの割り算は理由関係なく、少数扱いになる floatは浮動小数点型\n",
        "\n",
        "print(type(30 / 3))"
      ],
      "metadata": {
        "id": "PcMawy8A2Vcp",
        "colab": {
          "base_uri": "https://localhost:8080/"
        },
        "outputId": "81ad59fa-da31-4aee-c484-86f2df4dc008"
      },
      "execution_count": null,
      "outputs": [
        {
          "output_type": "stream",
          "name": "stdout",
          "text": [
            "63\n",
            "18\n",
            "90\n",
            "10.0\n",
            "5\n",
            "<class 'float'>\n"
          ]
        }
      ]
    },
    {
      "cell_type": "code",
      "source": [
        "print(45 + 1.5)\n",
        "print(3 - 1.2)\n",
        "print(15 * 0.6)\n",
        "print(3 / 0.3)\n",
        "print(45 % 0.8)\n"
      ],
      "metadata": {
        "colab": {
          "base_uri": "https://localhost:8080/"
        },
        "id": "cJ5GzPx6i3hn",
        "outputId": "d6d97468-aec7-4605-eeb7-b335d9220d60"
      },
      "execution_count": null,
      "outputs": [
        {
          "output_type": "stream",
          "name": "stdout",
          "text": [
            "46.5\n",
            "1.8\n",
            "9.0\n",
            "10.0\n",
            "0.1999999999999975\n"
          ]
        }
      ]
    },
    {
      "cell_type": "code",
      "source": [
        "print(\"今日の天気は\"+\"晴れ\")\n",
        "print(\"今日の天気は\"\"曇り\")"
      ],
      "metadata": {
        "colab": {
          "base_uri": "https://localhost:8080/"
        },
        "id": "zb0VOXgGjvFV",
        "outputId": "f19738a4-541a-4f6e-d357-5da8503173c9"
      },
      "execution_count": null,
      "outputs": [
        {
          "output_type": "stream",
          "name": "stdout",
          "text": [
            "今日の天気は晴れ\n",
            "今日の天気は曇り\n"
          ]
        }
      ]
    },
    {
      "cell_type": "code",
      "source": [
        "print(\"降水確率\" + str(50) + \"%\")\n",
        "# 文字列と数字を繋げたい時にはstr関数を用いる"
      ],
      "metadata": {
        "colab": {
          "base_uri": "https://localhost:8080/"
        },
        "id": "PvgajydAkZzx",
        "outputId": "2ced339e-b453-4843-8fab-789cbad77541"
      },
      "execution_count": null,
      "outputs": [
        {
          "output_type": "stream",
          "name": "stdout",
          "text": [
            "降水確率50%\n"
          ]
        }
      ]
    },
    {
      "cell_type": "code",
      "source": [
        "print(\"晴れ\" * 5)\n",
        "print(\"晴れ\" + \"晴れ\" + \"晴れ\" + \"晴れ\" + \"晴れ\")"
      ],
      "metadata": {
        "colab": {
          "base_uri": "https://localhost:8080/"
        },
        "id": "ZiYOVEXllGjy",
        "outputId": "084af5e0-39b8-4461-942e-5061fc629073"
      },
      "execution_count": null,
      "outputs": [
        {
          "output_type": "stream",
          "name": "stdout",
          "text": [
            "晴れ晴れ晴れ晴れ晴れ\n",
            "晴れ晴れ晴れ晴れ晴れ\n"
          ]
        }
      ]
    },
    {
      "cell_type": "code",
      "source": [
        "user_name = \"侍太郎\"\n",
        "print(user_name)\n",
        "# user_nameの部分が変数"
      ],
      "metadata": {
        "colab": {
          "base_uri": "https://localhost:8080/"
        },
        "id": "De96BgbBscX0",
        "outputId": "f5c3662c-4f6b-407f-d136-f892914f2b15"
      },
      "execution_count": null,
      "outputs": [
        {
          "output_type": "stream",
          "name": "stdout",
          "text": [
            "侍太郎\n"
          ]
        }
      ]
    },
    {
      "cell_type": "code",
      "source": [
        "user_name = \"侍太郎\"\n",
        "print(user_name)\n",
        "\n",
        "user_name = \"侍花子\"\n",
        "print(user_name)"
      ],
      "metadata": {
        "colab": {
          "base_uri": "https://localhost:8080/"
        },
        "id": "3MWYadK8suhM",
        "outputId": "e4475292-9609-4ccb-c2b9-9eda7285f2a4"
      },
      "execution_count": null,
      "outputs": [
        {
          "output_type": "stream",
          "name": "stdout",
          "text": [
            "侍太郎\n",
            "侍花子\n"
          ]
        }
      ]
    },
    {
      "cell_type": "code",
      "source": [
        "# 整数型と浮動小数点型の足し算\n",
        "number1 = 5\n",
        "number2 = 2.5\n",
        "print(number1 + number2)\n",
        "\n",
        "# 文字列型と文字列型の連結\n",
        "last_name = \"侍\"\n",
        "first_name = \"太郎\"\n",
        "print(last_name + first_name)"
      ],
      "metadata": {
        "colab": {
          "base_uri": "https://localhost:8080/"
        },
        "id": "DLSIIqxjt7PE",
        "outputId": "1ac8d9f7-c8a0-401e-9022-5b9d8c95b3e5"
      },
      "execution_count": null,
      "outputs": [
        {
          "output_type": "stream",
          "name": "stdout",
          "text": [
            "7.5\n",
            "侍太郎\n"
          ]
        }
      ]
    },
    {
      "cell_type": "code",
      "source": [
        "last_name = \"侍\"\n",
        "first_name = \"太郎\"\n",
        "sister_name = \"花子\"\n",
        "\n",
        "# 3つの変数を文字列内に埋め込んで表示　下記で変数名の中身をそれぞれに分けて表示している\n",
        "print(f\"私の名前は{last_name}{first_name}です。妹の名前は{sister_name}です。\")"
      ],
      "metadata": {
        "colab": {
          "base_uri": "https://localhost:8080/"
        },
        "id": "U16_n8bsxHxb",
        "outputId": "9d82d4ad-2543-4358-ea02-1caf9ec42414"
      },
      "execution_count": null,
      "outputs": [
        {
          "output_type": "stream",
          "name": "stdout",
          "text": [
            "私の名前は侍太郎です。妹の名前は花子です。\n"
          ]
        }
      ]
    },
    {
      "cell_type": "code",
      "source": [
        "'''\n",
        "# 上辺：10㎝\n",
        "# 下辺：20㎝\n",
        "# 高さ：5㎝\n",
        "# 公式：(上辺+下辺)＊高さ/2\n",
        "'''\n",
        "\n",
        "print(\"台形の面積:\" + str(((10 + 20) * 5) / 2) + \"cm²\")\n",
        "\n",
        "print(\"台形の面積:\",(10+20)*5/2,\"cm²\")\n"
      ],
      "metadata": {
        "colab": {
          "base_uri": "https://localhost:8080/"
        },
        "id": "QJJDybxS0Ydf",
        "outputId": "4e939938-b761-4ea6-bef1-b30d20568840"
      },
      "execution_count": null,
      "outputs": [
        {
          "output_type": "stream",
          "name": "stdout",
          "text": [
            "台形の面積:75.0cm²\n",
            "台形の面積: 75.0 cm²\n"
          ]
        }
      ]
    },
    {
      "cell_type": "code",
      "source": [
        "user_name = [\"侍太郎\", \"侍一郎\", \"侍二郎\", \"侍三郎\", \"侍四郎\"]\n",
        "\n",
        "print(user_name[1]) # 2番目の要素だけを表示\n",
        "\n",
        "user_name[1] = \"侍花子\" # 2番目の要素を更新\n",
        "print(user_name)\n",
        "\n",
        "user_name.append(\"侍五郎\") # 6番目の要素を追加\n",
        "print(user_name)\n",
        "\n",
        "user_name.pop(2) # 3番目の要素を削除 (0始まりのため2を指定)\n",
        "print(user_name)\n"
      ],
      "metadata": {
        "colab": {
          "base_uri": "https://localhost:8080/"
        },
        "id": "vZ3mZQV4zfPu",
        "outputId": "cf5bb93f-3296-4945-e8f0-fa3c53e1eac0"
      },
      "execution_count": null,
      "outputs": [
        {
          "output_type": "stream",
          "name": "stdout",
          "text": [
            "侍一郎\n",
            "['侍太郎', '侍花子', '侍二郎', '侍三郎', '侍四郎']\n",
            "['侍太郎', '侍花子', '侍二郎', '侍三郎', '侍四郎', '侍五郎']\n",
            "['侍太郎', '侍花子', '侍三郎', '侍四郎', '侍五郎']\n"
          ]
        }
      ]
    },
    {
      "cell_type": "code",
      "source": [
        "country_name = (\"日本\", \"アメリカ\", \"イギリス\", \"フランス\")\n",
        "\n",
        "print(country_name[2]) # 3番目の要素を取り出す\n",
        "\n",
        "print(country_name) # すべての要素を取り出す"
      ],
      "metadata": {
        "colab": {
          "base_uri": "https://localhost:8080/"
        },
        "id": "Ufv2WlQA1Zqm",
        "outputId": "5e5e1c1b-e606-402c-eec0-df5f4fec5a90"
      },
      "execution_count": null,
      "outputs": [
        {
          "output_type": "stream",
          "name": "stdout",
          "text": [
            "イギリス\n",
            "('日本', 'アメリカ', 'イギリス', 'フランス')\n"
          ]
        }
      ]
    },
    {
      "cell_type": "code",
      "source": [
        "country_names = {\"アメリカ\", \"イギリス\", \"日本\", \"フランス\"}\n",
        "\n",
        "print(country_names) # セット全体を表示\n",
        "\n",
        "country_names.add(\"ドイツ\") # 「ドイツ」をセットに追加\n",
        "print(country_names)\n",
        "\n",
        "country_names.remove(\"イギリス\") # 「イギリス」をセットから削除\n",
        "print(country_names)\n",
        "\n"
      ],
      "metadata": {
        "colab": {
          "base_uri": "https://localhost:8080/"
        },
        "id": "hJCDdjVr4PRD",
        "outputId": "f12738a1-a903-4d12-8138-d531a1371450"
      },
      "execution_count": null,
      "outputs": [
        {
          "output_type": "stream",
          "name": "stdout",
          "text": [
            "{'アメリカ', 'イギリス', 'フランス', '日本'}\n",
            "{'イギリス', 'ドイツ', 'アメリカ', 'フランス', '日本'}\n",
            "{'ドイツ', 'アメリカ', 'フランス', '日本'}\n"
          ]
        }
      ]
    },
    {
      "cell_type": "code",
      "source": [
        "personal_data = {\"name\": \"侍太郎\", \"age\":\"36\", \"gender\": \"男性\"} # 連測配列を作成\n",
        "\n",
        "print(personal_data[\"name\"]) # キー「name」の値を表示\n",
        "\n",
        "print(personal_data) # 連想配列全体を表示\n",
        "\n",
        "personal_data[\"age\"] = 37 # キー「age」の値を更新\n",
        "\n",
        "personal_data[\"address\"] = \"東京都\" # 新しく要素(キーと値)を追加\n",
        "\n",
        "print(personal_data)"
      ],
      "metadata": {
        "colab": {
          "base_uri": "https://localhost:8080/"
        },
        "id": "NB4XFGjwCyXU",
        "outputId": "8fae7627-96e7-4156-9846-27688d0d4fa8"
      },
      "execution_count": null,
      "outputs": [
        {
          "output_type": "stream",
          "name": "stdout",
          "text": [
            "侍太郎\n",
            "{'name': '侍太郎', 'age': '36', 'gender': '男性'}\n",
            "{'name': '侍太郎', 'age': 37, 'gender': '男性', 'address': '東京都'}\n"
          ]
        }
      ]
    },
    {
      "cell_type": "code",
      "source": [
        "list=[\n",
        "    \"月曜日は晴れです\",\n",
        "    \"火曜日は雨です\",\n",
        "    \"水曜日は晴れです\",\n",
        "    \"木曜日は晴れです\",\n",
        "    \"金曜日は曇りです\",\n",
        "    \"土曜日は曇りのち雨です\",\n",
        "    \"日曜日は雷雨です\"]\n",
        "\n",
        "print(list[2])\n",
        "\n",
        "dictionary={\n",
        "    \"mon\" : \"晴れ\",\n",
        "    \"tue\" : \"雨\",\n",
        "    \"wed\" : \"晴れ\",\n",
        "    \"thu\" : \"晴れ\",\n",
        "    \"fri\" : \"曇り\",\n",
        "    \"sat\" : \"曇りのち雨\",\n",
        "    \"sun\" : \"雷雨\"\n",
        "    }\n",
        "\n",
        "print(dictionary[\"wed\"])"
      ],
      "metadata": {
        "colab": {
          "base_uri": "https://localhost:8080/"
        },
        "id": "IThJB4rOISTz",
        "outputId": "9543e018-a470-4bc1-d8b3-41c0e281b887"
      },
      "execution_count": null,
      "outputs": [
        {
          "output_type": "stream",
          "name": "stdout",
          "text": [
            "水曜日は晴れです\n",
            "晴れ\n"
          ]
        }
      ]
    }
  ]
}